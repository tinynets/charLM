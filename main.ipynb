{
 "cells": [
  {
   "cell_type": "code",
   "execution_count": 1,
   "id": "66d6cba8-71b1-440e-a67b-9dc50f25e886",
   "metadata": {},
   "outputs": [],
   "source": [
    "import numpy as np\n",
    "import matplotlib.pyplot as plt\n",
    "import torch\n",
    "import torch.nn as nn\n",
    "import math\n",
    "\n",
    "from utils import load_and_preprocess_data\n",
    "\n",
    "from PositionalEncoding import PositionalEncoding\n",
    "from MultiHeadAttention import MHA"
   ]
  },
  {
   "cell_type": "markdown",
   "id": "5592557b-e21b-4ed2-93b3-ad4cffd43c61",
   "metadata": {},
   "source": [
    "# Load and Preprocess data"
   ]
  },
  {
   "cell_type": "code",
   "execution_count": 2,
   "id": "bc9b161a",
   "metadata": {},
   "outputs": [],
   "source": [
    "data, vocab  = load_and_preprocess_data()\n",
    "\n",
    "tokenize = {char : index for index, char in enumerate(vocab) }\n",
    "detokenize = {char : index for char, index in enumerate (list(tokenize.keys()))}\n",
    "\n",
    "tokens = []\n",
    "\n",
    "for char in data:\n",
    "    tokens.append(tokenize[char])\n",
    "\n",
    "num_embeddings = len(tokenize.keys())\n",
    "embedding_dim = 50\n",
    "\n",
    "vocab_size = len(tokenize.keys())"
   ]
  },
  {
   "cell_type": "markdown",
   "id": "ffdc4c80",
   "metadata": {},
   "source": [
    "# Begin Composing model"
   ]
  },
  {
   "cell_type": "code",
   "execution_count": 3,
   "id": "e643aaf5-8735-49fa-ba48-ec2940eb120f",
   "metadata": {},
   "outputs": [],
   "source": [
    "class Model(nn.Module):\n",
    "    def __init__(self, vocab_size, embedding_dim):\n",
    "        super(Model, self).__init__()\n",
    "        self.embedding = nn.Embedding(num_embeddings=num_embeddings, embedding_dim=embedding_dim)\n",
    "        self.pos_enc = PositionalEncoding(d_model=embedding_dim, max_len=50)\n",
    "        self.mha = MHA(d_model=embedding_dim, n_heads=5)\n",
    "\n",
    "    def forward(self, x):\n",
    "        x = self.embedding(x)\n",
    "        x = self.pos_enc(x)\n",
    "        out, attn_weights = self.mha(x)\n",
    "        return out\n",
    "        \n",
    "        "
   ]
  },
  {
   "cell_type": "code",
   "execution_count": 4,
   "id": "a2fe83d3-82e6-40e4-addc-b737694436cd",
   "metadata": {},
   "outputs": [],
   "source": [
    "model = Model(num_embeddings, embedding_dim)"
   ]
  },
  {
   "cell_type": "code",
   "execution_count": 5,
   "id": "72882a22-b0ab-49b7-8df9-c1c230cb39d1",
   "metadata": {},
   "outputs": [
    {
     "data": {
      "text/plain": [
       "torch.Size([1, 7, 50])"
      ]
     },
     "execution_count": 5,
     "metadata": {},
     "output_type": "execute_result"
    }
   ],
   "source": [
    "x = torch.randint(0, 9, (1, 7))\n",
    "o = model(x)\n",
    "o.shape"
   ]
  },
  {
   "cell_type": "markdown",
   "id": "31c736d8",
   "metadata": {},
   "source": [
    "# Work in Progress below (Add & Norm)"
   ]
  },
  {
   "cell_type": "code",
   "execution_count": 7,
   "id": "e4f793af",
   "metadata": {},
   "outputs": [],
   "source": [
    "class AddNorm(nn.Module):\n",
    "    def __init__(self):\n",
    "\n",
    "        return"
   ]
  },
  {
   "cell_type": "code",
   "execution_count": null,
   "id": "46bcd747",
   "metadata": {},
   "outputs": [],
   "source": []
  }
 ],
 "metadata": {
  "kernelspec": {
   "display_name": "Python 3 (ipykernel)",
   "language": "python",
   "name": "python3"
  },
  "language_info": {
   "codemirror_mode": {
    "name": "ipython",
    "version": 3
   },
   "file_extension": ".py",
   "mimetype": "text/x-python",
   "name": "python",
   "nbconvert_exporter": "python",
   "pygments_lexer": "ipython3",
   "version": "3.12.2"
  }
 },
 "nbformat": 4,
 "nbformat_minor": 5
}
