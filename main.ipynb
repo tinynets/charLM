{
 "cells": [
  {
   "cell_type": "code",
   "execution_count": 1,
   "id": "66d6cba8-71b1-440e-a67b-9dc50f25e886",
   "metadata": {},
   "outputs": [],
   "source": [
    "import torch\n",
    "import torch.nn as nn\n",
    "\n",
    "from utils import load_and_preprocess_data\n",
    "\n",
    "from EncoderBlock import Encoder\n",
    "\n",
    "from PositionalEncoding import PositionalEncoding\n",
    "from MultiHeadAttention import MHA\n",
    "from AddNorm import AddNorm\n",
    "from PositionwiseFeedForward import PositionwiseFeedForward"
   ]
  },
  {
   "cell_type": "markdown",
   "id": "5592557b-e21b-4ed2-93b3-ad4cffd43c61",
   "metadata": {},
   "source": [
    "# Load and Preprocess data"
   ]
  },
  {
   "cell_type": "code",
   "execution_count": 2,
   "id": "bc9b161a",
   "metadata": {},
   "outputs": [],
   "source": [
    "data, vocab  = load_and_preprocess_data()\n",
    "\n",
    "tokenize = {char : index for index, char in enumerate(vocab) }\n",
    "detokenize = {char : index for char, index in enumerate (list(tokenize.keys()))}\n",
    "\n",
    "tokens = []\n",
    "\n",
    "for char in data:\n",
    "    tokens.append(tokenize[char])\n",
    "\n",
    "embedding_dim = 50\n",
    "\n",
    "vocab_size = len(tokenize.keys())"
   ]
  },
  {
   "cell_type": "code",
   "execution_count": null,
   "id": "c0151a75",
   "metadata": {},
   "outputs": [],
   "source": []
  },
  {
   "cell_type": "code",
   "execution_count": 3,
   "id": "21e1612c",
   "metadata": {},
   "outputs": [],
   "source": [
    "e = Encoder(vocab_size=vocab_size, embedding_dim=embedding_dim)"
   ]
  },
  {
   "cell_type": "code",
   "execution_count": 4,
   "id": "49405c34",
   "metadata": {},
   "outputs": [],
   "source": [
    "x = torch.randint(1, 10, (2, 12))"
   ]
  },
  {
   "cell_type": "code",
   "execution_count": 5,
   "id": "99c2fb52",
   "metadata": {},
   "outputs": [
    {
     "name": "stdout",
     "output_type": "stream",
     "text": [
      "Shape after embedding: torch.Size([2, 12, 50])\n",
      "Shape after positional encoding: torch.Size([1, 12, 50])\n",
      "Shape after multi-head attention: torch.Size([1, 12, 50])\n",
      "Shape after add-norm: torch.Size([1, 12, 50])\n",
      "Shape after position-wise feed forward: torch.Size([1, 12, 50])\n",
      "Shape after second add-norm: torch.Size([1, 12, 50])\n"
     ]
    },
    {
     "data": {
      "text/plain": [
       "torch.Size([1, 12, 50])"
      ]
     },
     "execution_count": 5,
     "metadata": {},
     "output_type": "execute_result"
    }
   ],
   "source": [
    "o = e(x)\n",
    "o.shape"
   ]
  },
  {
   "cell_type": "code",
   "execution_count": null,
   "id": "5572f47e",
   "metadata": {},
   "outputs": [],
   "source": []
  },
  {
   "cell_type": "code",
   "execution_count": null,
   "id": "5af44843",
   "metadata": {},
   "outputs": [],
   "source": []
  }
 ],
 "metadata": {
  "kernelspec": {
   "display_name": "Python 3 (ipykernel)",
   "language": "python",
   "name": "python3"
  },
  "language_info": {
   "codemirror_mode": {
    "name": "ipython",
    "version": 3
   },
   "file_extension": ".py",
   "mimetype": "text/x-python",
   "name": "python",
   "nbconvert_exporter": "python",
   "pygments_lexer": "ipython3",
   "version": "3.12.2"
  }
 },
 "nbformat": 4,
 "nbformat_minor": 5
}
