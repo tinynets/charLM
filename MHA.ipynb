{
 "cells": [
  {
   "cell_type": "code",
   "execution_count": 11,
   "metadata": {},
   "outputs": [],
   "source": [
    "import math\n",
    "import torch\n",
    "import torch.nn as nn\n",
    "import torch.nn.functional as F\n",
    "\n"
   ]
  },
  {
   "cell_type": "code",
   "execution_count": 12,
   "metadata": {},
   "outputs": [],
   "source": [
    "\n",
    "\n",
    "def scaled_dot_product_attention(q, k, v, mask=None):\n",
    "    \"\"\"Calculate the attention weights. q, k, v must have matching leading dimensions.\n",
    "    The mask has different shapes depending on its type(padding or look ahead) \n",
    "    but it must be broadcastable for addition.\n",
    "    Args:\n",
    "    q: query shape == (..., seq_len, depth)\n",
    "    k: key shape == (..., seq_len, depth)\n",
    "    v: value shape == (..., seq_len, depth_v)\n",
    "    mask: Float tensor with shape broadcastable \n",
    "          to (..., seq_len_q, seq_len_k). Defaults to None.\n",
    "    \n",
    "    Returns:\n",
    "    output, attention_weights\n",
    "    \"\"\"\n",
    "    matmul_qk = torch.matmul(q, k.transpose(-2, -1))  # (..., seq_len_q, seq_len_k)\n",
    "    \n",
    "    # Scale matmul_qk\n",
    "    depth = k.shape[-1]\n",
    "    logits = matmul_qk / math.sqrt(depth)\n",
    "    \n",
    "    # Add the mask to the scaled tensor.\n",
    "    if mask is not None:\n",
    "        logits += (mask * -1e9)\n",
    "    \n",
    "    # Softmax is applied to the last axis (seq_len_k) so that the scores add up to 1.\n",
    "    attention_weights = F.softmax(logits, dim=-1)  # (..., seq_len_q, seq_len_k)\n",
    "    \n",
    "    output = torch.matmul(attention_weights, v)  # (..., seq_len_q, depth_v)\n",
    "    \n",
    "    return output, attention_weights\n"
   ]
  },
  {
   "cell_type": "code",
   "execution_count": 13,
   "metadata": {},
   "outputs": [
    {
     "name": "stdout",
     "output_type": "stream",
     "text": [
      "Output shape: torch.Size([1, 4, 50])\n",
      "Attention weights shape: torch.Size([1, 5, 4, 4])\n"
     ]
    }
   ],
   "source": [
    "\n",
    "# Assuming MultiHeadAttention class is defined as provided\n",
    "class MultiHeadAttention(nn.Module):\n",
    "    def __init__(self, d_model, num_heads):\n",
    "        super(MultiHeadAttention, self).__init__()\n",
    "        self.num_heads = num_heads\n",
    "        self.d_model = d_model\n",
    "        \n",
    "        assert d_model % num_heads == 0, \"d_model must be divisible by num_heads\"\n",
    "        \n",
    "        self.depth = d_model // num_heads\n",
    "        \n",
    "        self.wq = nn.Linear(d_model, d_model)\n",
    "        self.wk = nn.Linear(d_model, d_model)\n",
    "        self.wv = nn.Linear(d_model, d_model)\n",
    "        \n",
    "        self.final_linear = nn.Linear(d_model, d_model)\n",
    "    \n",
    "    def split_into_heads(self, x, batch_size):\n",
    "        x = x.view(batch_size, -1, self.num_heads, self.depth)\n",
    "        return x.permute(0, 2, 1, 3)\n",
    "    \n",
    "    def forward(self, q, k, v, mask=None):\n",
    "        batch_size = q.size(0)\n",
    "        \n",
    "        q = self.split_into_heads(self.wq(q), batch_size)\n",
    "        k = self.split_into_heads(self.wk(k), batch_size)\n",
    "        v = self.split_into_heads(self.wv(v), batch_size)\n",
    "        \n",
    "        # Scaled dot-product attention\n",
    "        scaled_attention, attention_weights = scaled_dot_product_attention(q, k, v, mask)\n",
    "        \n",
    "        # Concatenation of heads\n",
    "        scaled_attention = scaled_attention.permute(0, 2, 1, 3).contiguous()\n",
    "        concat_attention = scaled_attention.view(batch_size, -1, self.d_model)\n",
    "        \n",
    "        # Final linear layer\n",
    "        output = self.final_linear(concat_attention)\n",
    "        \n",
    "        return output, attention_weights\n",
    "\n",
    "# Initialize parameters\n",
    "d_model = 50\n",
    "num_heads = 5\n",
    "batch_size = 1\n",
    "seq_len = 4\n",
    "\n",
    "# Create the MultiHeadAttention layer\n",
    "mha = MultiHeadAttention(d_model, num_heads)\n",
    "\n",
    "# Create a random input tensor [batch_size, seq_len, d_model]\n",
    "x = torch.randn(batch_size, seq_len, d_model)\n",
    "\n",
    "print(x)\n",
    "\n",
    "# Call the MultiHeadAttention layer\n",
    "output, attn_weights = mha(x, x, x)  # q, k, v are typically the same in self-attention\n",
    "\n",
    "print(\"Output shape:\", output.shape)  # Should be [1, 4, 50]\n",
    "print(\"Attention weights shape:\", attn_weights.shape)  # Should be [1, num_heads, 4, 4]\n"
   ]
  },
  {
   "cell_type": "code",
   "execution_count": null,
   "metadata": {},
   "outputs": [],
   "source": []
  },
  {
   "cell_type": "code",
   "execution_count": null,
   "metadata": {},
   "outputs": [],
   "source": []
  },
  {
   "cell_type": "code",
   "execution_count": null,
   "metadata": {},
   "outputs": [],
   "source": []
  },
  {
   "cell_type": "code",
   "execution_count": null,
   "metadata": {},
   "outputs": [],
   "source": []
  }
 ],
 "metadata": {
  "kernelspec": {
   "display_name": "tn_env",
   "language": "python",
   "name": "python3"
  },
  "language_info": {
   "codemirror_mode": {
    "name": "ipython",
    "version": 3
   },
   "file_extension": ".py",
   "mimetype": "text/x-python",
   "name": "python",
   "nbconvert_exporter": "python",
   "pygments_lexer": "ipython3",
   "version": "3.12.2"
  }
 },
 "nbformat": 4,
 "nbformat_minor": 2
}
