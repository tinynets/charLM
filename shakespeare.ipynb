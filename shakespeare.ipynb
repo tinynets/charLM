{
 "cells": [
  {
   "cell_type": "code",
   "execution_count": 74,
   "id": "66d6cba8-71b1-440e-a67b-9dc50f25e886",
   "metadata": {},
   "outputs": [],
   "source": [
    "import numpy as np\n",
    "import matplotlib.pyplot as plt\n",
    "import torch\n",
    "import torch.nn as \n",
    "import math"
   ]
  },
  {
   "cell_type": "markdown",
   "id": "5592557b-e21b-4ed2-93b3-ad4cffd43c61",
   "metadata": {},
   "source": [
    "read the data in from txt file"
   ]
  },
  {
   "cell_type": "code",
   "execution_count": 112,
   "id": "0319a1b8-1b31-4a73-97b8-648c01fda0f3",
   "metadata": {},
   "outputs": [],
   "source": [
    "with open('input.txt', 'r') as file:\n",
    "    lines = file.readlines()\n",
    "\n",
    "lines = [line.strip() for line in lines] # remove new line char\n",
    "lines = [line for line in lines if line != \"\"] # remove empties\n",
    "lines = list(map(str.lower, lines)) # make everything lower to reduce vocab"
   ]
  },
  {
   "cell_type": "code",
   "execution_count": 119,
   "id": "4aca816c-03e4-4b4c-b810-3873b2e6d416",
   "metadata": {},
   "outputs": [
    {
     "name": "stdout",
     "output_type": "stream",
     "text": [
      "1108166\n"
     ]
    }
   ],
   "source": [
    "# now let's make everything one long string\n",
    "\n",
    "data = ' '.join(lines)\n",
    "chars = sorted(set(data))\n",
    "\n",
    "print(len(data))\n",
    "\n"
   ]
  },
  {
   "cell_type": "code",
   "execution_count": 120,
   "id": "7f49f215-2b76-446d-b1bb-b325724420f3",
   "metadata": {},
   "outputs": [],
   "source": [
    "tokenize = {char : index for index, char in enumerate(chars) }\n",
    "detokenize = {char : index for char, index in enumerate (list(tokenize.keys()))}"
   ]
  },
  {
   "cell_type": "code",
   "execution_count": 123,
   "id": "937b7829-20e6-437c-9f18-8eadf5966cdc",
   "metadata": {},
   "outputs": [],
   "source": [
    "tokens = []\n",
    "\n",
    "for char in data:\n",
    "    tokens.append(tokenize[char])\n",
    "    "
   ]
  },
  {
   "cell_type": "code",
   "execution_count": 131,
   "id": "7cdc470e-be35-4a58-a0ba-7da7a28fe4f6",
   "metadata": {},
   "outputs": [],
   "source": [
    "num_embeddings = len(tokenize.keys())\n",
    "embedding_dim = 50"
   ]
  },
  {
   "cell_type": "code",
   "execution_count": 133,
   "id": "e643aaf5-8735-49fa-ba48-ec2940eb120f",
   "metadata": {},
   "outputs": [],
   "source": [
    "class Model(nn.Module):\n",
    "    def __init__(self, vocab_size, embedding_dim):\n",
    "        super(Model, self).__init__()\n",
    "        self.embedding = nn.Embedding(num_embeddings=num_embeddings, embedding_dim=embedding_dim)\n",
    "\n",
    "\n",
    "    def forward(self, x):\n",
    "        x = self.embedding(x)\n",
    "\n",
    "        return x\n",
    "        \n",
    "        "
   ]
  },
  {
   "cell_type": "code",
   "execution_count": 135,
   "id": "a2fe83d3-82e6-40e4-addc-b737694436cd",
   "metadata": {},
   "outputs": [],
   "source": [
    "model = Model(num_embeddings, embedding_dim)"
   ]
  },
  {
   "cell_type": "code",
   "execution_count": null,
   "id": "e3918a6a-e94d-47b5-b88e-db216bf7ab69",
   "metadata": {},
   "outputs": [],
   "source": [
    "    "
   ]
  },
  {
   "cell_type": "code",
   "execution_count": 136,
   "id": "72882a22-b0ab-49b7-8df9-c1c230cb39d1",
   "metadata": {},
   "outputs": [],
   "source": [
    "# testing model\n",
    "\n",
    "input_indices = torch.tensor([12, 15, 23, 1], dtype=torch.long)\n"
   ]
  },
  {
   "cell_type": "code",
   "execution_count": 137,
   "id": "99783578-6b36-4357-8063-5357369007e2",
   "metadata": {},
   "outputs": [
    {
     "data": {
      "text/plain": [
       "tensor([12, 15, 23,  1])"
      ]
     },
     "execution_count": 137,
     "metadata": {},
     "output_type": "execute_result"
    }
   ],
   "source": [
    "input_indices"
   ]
  },
  {
   "cell_type": "code",
   "execution_count": 138,
   "id": "5a65691b-4e75-4104-acbc-3875a66c05f3",
   "metadata": {},
   "outputs": [
    {
     "name": "stdout",
     "output_type": "stream",
     "text": [
      "Output Embeddings:\n",
      "tensor([[-4.5354e-01, -9.8725e-01, -6.0165e-01,  7.4291e-01, -8.3635e-01,\n",
      "         -2.5668e-01,  5.6757e-01,  4.6428e-01,  2.3700e-01, -2.9635e-02,\n",
      "          5.1507e-01, -3.6878e-01, -1.8067e+00, -1.0763e+00,  1.7325e+00,\n",
      "         -6.1952e-01,  3.9473e-01,  6.9312e-01,  6.3261e-01, -6.2907e-01,\n",
      "          2.2160e+00,  6.6611e-01, -1.2564e+00,  3.2911e-01, -5.8157e-01,\n",
      "         -3.2110e-01,  1.0831e+00, -3.7754e-01, -8.5314e-01,  2.9414e-01,\n",
      "         -3.0067e-01, -2.0369e+00,  1.3080e+00,  1.0431e+00,  1.8659e+00,\n",
      "          1.5184e+00, -1.8173e+00,  2.2482e+00,  1.7383e-01,  1.3350e-01,\n",
      "          2.0587e-01,  8.7298e-01, -6.2319e-01,  1.3300e+00,  3.7248e-01,\n",
      "          2.5250e-01, -6.3392e-01, -1.2900e+00, -1.2507e+00, -3.6913e-01],\n",
      "        [ 6.6035e-01,  3.5890e-01,  9.9214e-01, -8.8784e-01,  1.0917e+00,\n",
      "          8.5483e-01, -7.5907e-01, -1.8464e-01,  1.3000e+00, -9.0745e-01,\n",
      "         -1.7746e-01,  1.1715e-01,  6.8623e-01,  4.2686e-01,  1.4034e+00,\n",
      "          2.2308e-01,  3.1959e-01,  2.2316e+00, -1.7338e-01, -1.8696e+00,\n",
      "          2.6681e-01,  1.2339e+00,  5.1925e-01,  5.8317e-01,  7.3727e-01,\n",
      "         -3.4421e-01, -1.3599e+00, -5.2530e-01, -1.9700e-01, -9.7626e-01,\n",
      "          2.3564e-02, -4.8094e-01,  8.7414e-02, -5.6950e-01,  4.9764e-02,\n",
      "         -7.9607e-01,  1.6112e-01,  9.0005e-01,  3.9017e-01, -1.2480e+00,\n",
      "          9.6561e-01,  2.4632e+00,  1.1250e+00,  2.6262e-01, -1.6049e+00,\n",
      "          8.2033e-01, -3.1242e-01,  6.0787e-01,  5.6333e-01, -7.3703e-01],\n",
      "        [-1.4931e+00,  1.4203e+00,  1.2083e-01, -1.6453e+00,  1.5790e-01,\n",
      "         -1.0988e+00, -2.9981e+00,  1.4502e+00, -4.5223e-01,  2.2173e-01,\n",
      "         -2.0530e-01,  1.4123e+00,  9.7386e-01,  3.6028e-01,  2.1915e-02,\n",
      "         -8.5789e-01,  8.2820e-01, -1.4204e-03,  1.0640e+00,  6.0428e-01,\n",
      "          9.4115e-01,  1.1526e+00, -1.5872e+00,  1.9559e-01,  4.1973e-01,\n",
      "         -7.5849e-01,  1.5471e+00,  8.1363e-01, -1.7261e+00,  4.0547e-01,\n",
      "         -1.2504e-01, -4.6858e-01,  1.4606e+00, -9.0285e-02,  5.1217e-01,\n",
      "          1.0218e-01, -8.7010e-01,  5.8323e-02,  9.3736e-01,  8.6971e-01,\n",
      "          9.3241e-02,  2.7452e-01,  6.8137e-01, -9.0017e-01, -5.3280e-01,\n",
      "          1.5892e+00,  1.3519e-01,  8.4051e-01,  6.1383e-01, -9.7558e-01],\n",
      "        [-1.7559e-01, -6.4582e-01,  1.9245e+00, -1.6529e-01, -1.9376e+00,\n",
      "          1.2689e+00,  8.3119e-01, -7.6981e-01,  1.5451e+00,  6.3377e-02,\n",
      "          7.9496e-01,  1.4665e+00, -4.6792e-01,  1.4439e-01,  3.5239e-01,\n",
      "          4.4293e-01, -1.6724e-01,  4.1849e-01,  1.1494e+00,  1.4958e+00,\n",
      "          6.9611e-01, -2.3286e-01, -1.9014e-01,  6.5874e-01,  4.7010e-01,\n",
      "         -1.1418e+00, -1.4231e+00, -3.2610e-01, -7.1082e-02, -2.4182e-02,\n",
      "         -2.7997e+00,  4.9408e-01, -2.0270e+00, -9.3389e-01,  2.4626e+00,\n",
      "          3.3007e+00, -5.4268e-01, -1.1426e+00, -4.5680e-01, -1.7492e-01,\n",
      "          5.4380e-01,  1.4312e+00,  3.5929e-01,  3.1038e-01, -9.8021e-01,\n",
      "          1.8548e+00,  7.4985e-02, -9.6426e-01,  9.0743e-01, -1.1573e+00]],\n",
      "       grad_fn=<EmbeddingBackward0>)\n"
     ]
    }
   ],
   "source": [
    "# Evaluate model\n",
    "model.eval()\n",
    "output = model(input_indices)\n",
    "\n",
    "# Print output embeddings\n",
    "print(\"Output Embeddings:\")\n",
    "print(output)"
   ]
  },
  {
   "cell_type": "code",
   "execution_count": 139,
   "id": "be324178-07c5-4119-9671-b0c2fd3def3a",
   "metadata": {},
   "outputs": [
    {
     "data": {
      "text/plain": [
       "torch.Size([4, 50])"
      ]
     },
     "execution_count": 139,
     "metadata": {},
     "output_type": "execute_result"
    }
   ],
   "source": [
    "output.shape"
   ]
  },
  {
   "cell_type": "code",
   "execution_count": null,
   "id": "8f199f51-8239-400c-abff-601b1d5ddc34",
   "metadata": {},
   "outputs": [],
   "source": []
  }
 ],
 "metadata": {
  "kernelspec": {
   "display_name": "Python 3 (ipykernel)",
   "language": "python",
   "name": "python3"
  },
  "language_info": {
   "codemirror_mode": {
    "name": "ipython",
    "version": 3
   },
   "file_extension": ".py",
   "mimetype": "text/x-python",
   "name": "python",
   "nbconvert_exporter": "python",
   "pygments_lexer": "ipython3",
   "version": "3.12.2"
  }
 },
 "nbformat": 4,
 "nbformat_minor": 5
}
