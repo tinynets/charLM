{
 "cells": [
  {
   "cell_type": "code",
   "execution_count": 1,
   "id": "66d6cba8-71b1-440e-a67b-9dc50f25e886",
   "metadata": {},
   "outputs": [],
   "source": [
    "import numpy as np\n",
    "import matplotlib.pyplot as plt\n",
    "import torch\n",
    "import torch.nn as nn\n",
    "import math"
   ]
  },
  {
   "cell_type": "markdown",
   "id": "5592557b-e21b-4ed2-93b3-ad4cffd43c61",
   "metadata": {},
   "source": [
    "read the data in from txt file"
   ]
  },
  {
   "cell_type": "code",
   "execution_count": 2,
   "id": "0319a1b8-1b31-4a73-97b8-648c01fda0f3",
   "metadata": {},
   "outputs": [],
   "source": [
    "with open('input.txt', 'r') as file:\n",
    "    lines = file.readlines()\n",
    "\n",
    "lines = [line.strip() for line in lines] # remove new line char\n",
    "lines = [line for line in lines if line != \"\"] # remove empties\n",
    "lines = list(map(str.lower, lines)) # make everything lower to reduce vocab"
   ]
  },
  {
   "cell_type": "code",
   "execution_count": 3,
   "id": "4aca816c-03e4-4b4c-b810-3873b2e6d416",
   "metadata": {},
   "outputs": [
    {
     "name": "stdout",
     "output_type": "stream",
     "text": [
      "1108166\n"
     ]
    }
   ],
   "source": [
    "# now let's make everything one long string\n",
    "\n",
    "data = ' '.join(lines)\n",
    "chars = sorted(set(data))\n",
    "\n",
    "print(len(data))\n"
   ]
  },
  {
   "cell_type": "code",
   "execution_count": 4,
   "id": "7f49f215-2b76-446d-b1bb-b325724420f3",
   "metadata": {},
   "outputs": [],
   "source": [
    "tokenize = {char : index for index, char in enumerate(chars) }\n",
    "detokenize = {char : index for char, index in enumerate (list(tokenize.keys()))}"
   ]
  },
  {
   "cell_type": "code",
   "execution_count": 5,
   "id": "937b7829-20e6-437c-9f18-8eadf5966cdc",
   "metadata": {},
   "outputs": [],
   "source": [
    "tokens = []\n",
    "\n",
    "for char in data:\n",
    "    tokens.append(tokenize[char])"
   ]
  },
  {
   "cell_type": "code",
   "execution_count": 6,
   "id": "7cdc470e-be35-4a58-a0ba-7da7a28fe4f6",
   "metadata": {},
   "outputs": [],
   "source": [
    "num_embeddings = len(tokenize.keys())\n",
    "embedding_dim = 50"
   ]
  },
  {
   "cell_type": "code",
   "execution_count": 7,
   "id": "5335dc25",
   "metadata": {},
   "outputs": [],
   "source": [
    "class PositionalEncoding(nn.Module):\n",
    "    def __init__(self, d_model, max_len=50):\n",
    "        super(PositionalEncoding, self).__init__()\n",
    "        self.d_model = d_model\n",
    "        self.max_len = max_len\n",
    "\n",
    "\n",
    "        self.pos_encoding = torch.zeros(max_len, d_model)\n",
    "        positions = torch.arange(0, max_len).unsqueeze(1)\n",
    "        div_term = torch.exp(torch.arange(0, d_model, 2).float() * (-math.log(10000.0) / d_model))\n",
    "\n",
    "        self.pos_encoding[:, 0::2] = torch.sin(positions * div_term)\n",
    "        self.pos_encoding[:, 1::2] = torch.cos(positions * div_term)\n",
    "\n",
    "        self.register_buffer('penc', self.pos_encoding)       \n",
    "\n",
    "    def forward(self, x):\n",
    "        seq_len = x.size(1)\n",
    "        return self.pos_encoding[:seq_len, :].unsqueeze(0)\n",
    "\n"
   ]
  },
  {
   "cell_type": "code",
   "execution_count": 8,
   "id": "e643aaf5-8735-49fa-ba48-ec2940eb120f",
   "metadata": {},
   "outputs": [],
   "source": [
    "class Model(nn.Module):\n",
    "    def __init__(self, vocab_size, embedding_dim):\n",
    "        super(Model, self).__init__()\n",
    "        self.embedding = nn.Embedding(num_embeddings=num_embeddings, embedding_dim=embedding_dim)\n",
    "        self.pos_enc = PositionalEncoding(d_model=embedding_dim, max_len=50)\n",
    "\n",
    "    def forward(self, x):\n",
    "        x = self.embedding(x)\n",
    "        x = self.pos_enc(x)\n",
    "        return x\n",
    "        \n",
    "        "
   ]
  },
  {
   "cell_type": "code",
   "execution_count": 9,
   "id": "a2fe83d3-82e6-40e4-addc-b737694436cd",
   "metadata": {},
   "outputs": [],
   "source": [
    "model = Model(num_embeddings, embedding_dim)"
   ]
  },
  {
   "cell_type": "code",
   "execution_count": 10,
   "id": "72882a22-b0ab-49b7-8df9-c1c230cb39d1",
   "metadata": {},
   "outputs": [
    {
     "name": "stdout",
     "output_type": "stream",
     "text": [
      "torch.Size([1, 4])\n"
     ]
    }
   ],
   "source": [
    "# testing model\n",
    "\n",
    "input_indices = torch.tensor([12, 15, 23, 1], dtype=torch.long).unsqueeze(0)\n",
    "print(input_indices.shape)"
   ]
  },
  {
   "cell_type": "code",
   "execution_count": 11,
   "id": "a07d0dd1-76de-4344-8368-a546d041ce3e",
   "metadata": {},
   "outputs": [
    {
     "name": "stdout",
     "output_type": "stream",
     "text": [
      "torch.Size([1, 4, 50])\n"
     ]
    }
   ],
   "source": [
    "o = model(input_indices)\n",
    "\n",
    "print(o.shape)\n",
    "# print(o)"
   ]
  },
  {
   "cell_type": "markdown",
   "id": "36e6a8e7",
   "metadata": {},
   "source": [
    "## Implementing MHA\n",
    "\n",
    "## Steps\n",
    "\n",
    "1. Linear Projections (we get queries, keys and values)\n",
    "2. Scaled Dot Product Attention\n",
    "3. Concatenation of heads\n",
    "4. Final Linear Transformation\n",
    "\n"
   ]
  },
  {
   "cell_type": "code",
   "execution_count": 12,
   "id": "50d7efbe",
   "metadata": {},
   "outputs": [],
   "source": [
    "class MHA(nn.Module):\n",
    "    def __init__(self, d_model, n_heads):\n",
    "        super(MHA, self).__init__()\n",
    "        self.n_heads = n_heads\n",
    "        self.d_model = d_model\n",
    "\n",
    "        assert d_model % n_heads == 0, \"d_model must be divisible by n_heads\"\n",
    "\n",
    "        self.wq = nn.Linear(d_model, d_model)\n",
    "        self.wk = nn.Linear(d_model, d_model)\n",
    "        self.wv = nn.Linear(d_model, d_model)\n",
    "\n",
    "        self.final_lienear = nn.Linear(d_model, d_model)\n",
    "\n",
    "    def forward(self, x):\n",
    "        \n",
    "        return None\n",
    "\n",
    "\n",
    "# test input\n",
    "\n",
    "\n",
    "\n",
    "        \n",
    "\n"
   ]
  },
  {
   "cell_type": "code",
   "execution_count": 13,
   "id": "70c63c0e",
   "metadata": {},
   "outputs": [],
   "source": [
    "\n",
    "d_model = 50\n",
    "num_heads = 5\n",
    "batch_size = 1\n",
    "seq_len = 4\n",
    "\n",
    "# input to the MHA classs\n",
    "\n",
    "x = torch.randn(batch_size, seq_len, d_model)\n",
    "\n",
    "# what happens in the forward pass of the MHA class?\n",
    "\n",
    "wq = nn.Linear(d_model, d_model)\n",
    "wk = nn.Linear(d_model, d_model)\n",
    "wv = nn.Linear(d_model, d_model)\n",
    "\n",
    "q = wq(x)\n",
    "k = wk(x)\n",
    "v = wv(x)\n",
    "\n",
    "# scaled dot product attention (this will be in a different method)\n",
    "# the method will take in q, k, v and return the attention scores\n",
    "# masking will be optional\n",
    "\n",
    "\n",
    "\n",
    "\n",
    "\n",
    "\n",
    "\n",
    "\n",
    "\n"
   ]
  },
  {
   "cell_type": "code",
   "execution_count": 14,
   "id": "8fa777ac",
   "metadata": {},
   "outputs": [],
   "source": [
    "x = torch.randn(1, 4, 50)"
   ]
  },
  {
   "cell_type": "code",
   "execution_count": 16,
   "id": "89e51113",
   "metadata": {},
   "outputs": [
    {
     "data": {
      "text/plain": [
       "torch.Size([1, 4, 50])"
      ]
     },
     "execution_count": 16,
     "metadata": {},
     "output_type": "execute_result"
    }
   ],
   "source": [
    "wq(x).shape"
   ]
  },
  {
   "cell_type": "code",
   "execution_count": null,
   "id": "f46cd1f8",
   "metadata": {},
   "outputs": [],
   "source": []
  }
 ],
 "metadata": {
  "kernelspec": {
   "display_name": "Python 3 (ipykernel)",
   "language": "python",
   "name": "python3"
  },
  "language_info": {
   "codemirror_mode": {
    "name": "ipython",
    "version": 3
   },
   "file_extension": ".py",
   "mimetype": "text/x-python",
   "name": "python",
   "nbconvert_exporter": "python",
   "pygments_lexer": "ipython3",
   "version": "3.12.2"
  }
 },
 "nbformat": 4,
 "nbformat_minor": 5
}
