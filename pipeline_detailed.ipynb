{
 "cells": [
  {
   "cell_type": "markdown",
   "metadata": {},
   "source": [
    "Exploring the data pipeline before the transformer block to ensure that the correct stuff is\n",
    "getting passed into the model, also need to understand batching, and dataloading etc"
   ]
  },
  {
   "cell_type": "code",
   "execution_count": 10,
   "metadata": {},
   "outputs": [],
   "source": [
    "from utils import load_and_preprocess_data"
   ]
  },
  {
   "cell_type": "code",
   "execution_count": 14,
   "metadata": {},
   "outputs": [
    {
     "data": {
      "text/plain": [
       "100"
      ]
     },
     "execution_count": 14,
     "metadata": {},
     "output_type": "execute_result"
    }
   ],
   "source": [
    "\n",
    "data, vocab = load_and_preprocess_data()\n",
    "\n",
    "data = data[:1000]\n",
    "\n",
    "\n",
    "# Parameters\n",
    "vocab_size = 100  # Number of unique tokens in the vocabulary\n",
    "embedding_dim = 512  # Dimensionality of embeddings\n",
    "batch_size = 64  # Number of sequences in a batch\n",
    "seq_len = 10  # Length of each sequence\n",
    "\n",
    "chars_to_idx = {ch: i for i, ch in enumerate(sorted(set(data)))}\n",
    "idx_to_chars = {i: ch for i, ch in enumerate(sorted(set(data)))}\n",
    "\n",
    "len(data)\n"
   ]
  },
  {
   "cell_type": "code",
   "execution_count": 37,
   "metadata": {},
   "outputs": [],
   "source": [
    "tokenized_data = [chars_to_idx[ch] for ch in data]\n"
   ]
  },
  {
   "cell_type": "code",
   "execution_count": null,
   "metadata": {},
   "outputs": [],
   "source": []
  },
  {
   "cell_type": "code",
   "execution_count": null,
   "metadata": {},
   "outputs": [],
   "source": []
  }
 ],
 "metadata": {
  "kernelspec": {
   "display_name": "tn_env",
   "language": "python",
   "name": "python3"
  },
  "language_info": {
   "codemirror_mode": {
    "name": "ipython",
    "version": 3
   },
   "file_extension": ".py",
   "mimetype": "text/x-python",
   "name": "python",
   "nbconvert_exporter": "python",
   "pygments_lexer": "ipython3",
   "version": "3.12.2"
  }
 },
 "nbformat": 4,
 "nbformat_minor": 2
}
