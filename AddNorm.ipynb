{
 "cells": [
  {
   "cell_type": "code",
   "execution_count": 1,
   "metadata": {},
   "outputs": [],
   "source": [
    "import torch\n",
    "import torch.nn as nn\n",
    "\n"
   ]
  },
  {
   "cell_type": "code",
   "execution_count": 3,
   "metadata": {},
   "outputs": [],
   "source": [
    "class AddNorm(nn.Module):\n",
    "    def __init__(self, size, eps=1e-6):\n",
    "        super(AddNorm, self).__init__()\n",
    "        self.norm = nn.LayerNorm(size, eps=eps)\n",
    "\n",
    "    def forward(self, x, sublayer_output):\n",
    "        # x is the input to the layer that has been transformed (e.g., by an attention mechanism)\n",
    "        # sublayer_output is the output from the sub-layer (e.g., Multi-Head Attention output)\n",
    "        # Step 1: Add the input x to the sublayer_output (Residual Connection)\n",
    "        added = x + sublayer_output\n",
    "        # Step 2: Normalize the sum using Layer Normalization\n",
    "        output = self.norm(added)\n",
    "        return output\n",
    "\n"
   ]
  },
  {
   "cell_type": "code",
   "execution_count": null,
   "metadata": {},
   "outputs": [],
   "source": []
  }
 ],
 "metadata": {
  "kernelspec": {
   "display_name": "tn_env",
   "language": "python",
   "name": "python3"
  },
  "language_info": {
   "codemirror_mode": {
    "name": "ipython",
    "version": 3
   },
   "file_extension": ".py",
   "mimetype": "text/x-python",
   "name": "python",
   "nbconvert_exporter": "python",
   "pygments_lexer": "ipython3",
   "version": "3.12.2"
  }
 },
 "nbformat": 4,
 "nbformat_minor": 2
}
