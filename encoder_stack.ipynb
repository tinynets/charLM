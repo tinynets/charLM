{
 "cells": [
  {
   "cell_type": "markdown",
   "metadata": {},
   "source": [
    "A notebook to test the stacking of the encoder blocks (and maybe the decoders too) - to fully\n",
    "understand 2 things:\n",
    "\n",
    "1. how the stacking works with the input and output shapes\n",
    "2. how the nn.ModuleList class works to acheieve above"
   ]
  },
  {
   "cell_type": "code",
   "execution_count": 1,
   "metadata": {},
   "outputs": [],
   "source": [
    "import torch\n",
    "import torch.nn as nn\n",
    "\n",
    "from EncoderBlock import Encoder\n",
    "from PositionalEncoding import PositionalEncoding"
   ]
  },
  {
   "cell_type": "code",
   "execution_count": 6,
   "metadata": {},
   "outputs": [
    {
     "name": "stdout",
     "output_type": "stream",
     "text": [
      "DUMMY_INPUT: torch.Size([64, 10]) torch.int64\n"
     ]
    }
   ],
   "source": [
    "# Parameters\n",
    "vocab_size = 100  # Number of unique tokens in the vocabulary\n",
    "embedding_dim = 512  # Dimensionality of embeddings\n",
    "batch_size = 64  # Number of sequences in a batch\n",
    "seq_len = 10  # Length of each sequence\n",
    "\n",
    "# Create random input data: batch_size sequences of length seq_len with values from 0 to vocab_size-1\n",
    "dummy_input = torch.randint(0, vocab_size, (batch_size, seq_len))\n",
    "print('DUMMY_INPUT:', dummy_input.shape, dummy_input.dtype)\n",
    "\n",
    "embedding = nn.Embedding(num_embeddings=vocab_size, embedding_dim=embedding_dim)\n",
    "pos_enc = PositionalEncoding(d_model=embedding_dim)\n",
    "\n",
    "x = embedding(dummy_input.long())        \n",
    "x = pos_enc(x)"
   ]
  },
  {
   "cell_type": "code",
   "execution_count": 7,
   "metadata": {},
   "outputs": [],
   "source": [
    "encoder1 = Encoder(vocab_size, embedding_dim)\n",
    "encoder2 = Encoder(vocab_size, embedding_dim)\n",
    "encoder3 = Encoder(vocab_size, embedding_dim)"
   ]
  },
  {
   "cell_type": "code",
   "execution_count": 8,
   "metadata": {},
   "outputs": [
    {
     "name": "stdout",
     "output_type": "stream",
     "text": [
      "ENCODER_BLOCK_OUTPUT torch.Size([64, 10, 512]) torch.float32\n",
      "After encoder1: torch.Size([64, 10, 512]) torch.float32\n",
      "ENCODER_BLOCK_OUTPUT torch.Size([64, 10, 512]) torch.float32\n",
      "After encoder2: torch.Size([64, 10, 512]) torch.float32\n",
      "ENCODER_BLOCK_OUTPUT torch.Size([64, 10, 512]) torch.float32\n",
      "After encoder3: torch.Size([64, 10, 512]) torch.float32\n"
     ]
    }
   ],
   "source": [
    "output1 = encoder1(x)\n",
    "print('After encoder1:', output1.shape, output1.dtype)\n",
    "\n",
    "output2 = encoder2(output1)\n",
    "print('After encoder2:', output2.shape, output2.dtype)\n",
    "\n",
    "output3 = encoder3(output2)\n",
    "print('After encoder3:', output3.shape, output3.dtype)"
   ]
  },
  {
   "cell_type": "code",
   "execution_count": 9,
   "metadata": {},
   "outputs": [],
   "source": [
    "import torch.nn as nn\n",
    "\n",
    "# Create a list of encoder instances\n",
    "encoders = [encoder1, encoder2, encoder3]\n",
    "\n",
    "# Stack the encoders using nn.ModuleList\n",
    "stacked_encoders = nn.ModuleList(encoders)\n",
    "\n",
    "\n"
   ]
  },
  {
   "cell_type": "code",
   "execution_count": 10,
   "metadata": {},
   "outputs": [
    {
     "name": "stdout",
     "output_type": "stream",
     "text": [
      "ENCODER_BLOCK_OUTPUT torch.Size([64, 10, 512]) torch.float32\n",
      "Output after encoder 1: torch.Size([64, 10, 512])\n",
      "ENCODER_BLOCK_OUTPUT torch.Size([64, 10, 512]) torch.float32\n",
      "Output after encoder 2: torch.Size([64, 10, 512])\n",
      "ENCODER_BLOCK_OUTPUT torch.Size([64, 10, 512]) torch.float32\n",
      "Output after encoder 3: torch.Size([64, 10, 512])\n"
     ]
    }
   ],
   "source": [
    "for i, encoder in enumerate(stacked_encoders):\n",
    "    x = encoder(x)\n",
    "    print(f\"Output after encoder {i+1}: {x.shape}\")\n"
   ]
  },
  {
   "cell_type": "code",
   "execution_count": null,
   "metadata": {},
   "outputs": [],
   "source": []
  }
 ],
 "metadata": {
  "kernelspec": {
   "display_name": "tn_env",
   "language": "python",
   "name": "python3"
  },
  "language_info": {
   "codemirror_mode": {
    "name": "ipython",
    "version": 3
   },
   "file_extension": ".py",
   "mimetype": "text/x-python",
   "name": "python",
   "nbconvert_exporter": "python",
   "pygments_lexer": "ipython3",
   "version": "3.12.2"
  }
 },
 "nbformat": 4,
 "nbformat_minor": 2
}
